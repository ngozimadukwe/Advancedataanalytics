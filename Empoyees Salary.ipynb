{
 "cells": [
  {
   "cell_type": "code",
   "execution_count": 12,
   "metadata": {
    "collapsed": true
   },
   "outputs": [],
   "source": [
    "employees = [{'id': '001','name': 'Mary','pay': 15.00,'hours': 40},\n",
    "{'id': '002','name': 'John','pay': 22.00,'hours': 25},\n",
    "{'id': '003','name': 'Bob','pay': 35.00,'hours': 4},\n",
    "{'id': '004','name': 'Mel','pay': 43.00,'hours': 62},\n",
    "{'id': '005','name': 'Jen','pay': 17.00,'hours': 33},\n",
    "{'id': '006','name': 'Sue','pay': 29.00,'hours': 45},\n",
    "{'id': '007','name': 'Ken','pay': 40.00,'hours': 36},\n",
    "{'id': '008','name': 'Dave','pay': 20.00,'hours': 17},\n",
    "{'id': '009','name': 'Beth','pay': 37.00,'hours': 37},\n",
    "{'id': '010','name': 'Ray','pay': 16.50,'hours': 80}]"
   ]
  },
  {
   "cell_type": "code",
   "execution_count": 15,
   "metadata": {},
   "outputs": [
    {
     "name": "stdout",
     "output_type": "stream",
     "text": [
      "Mary 600.0\n",
      "John 550.0\n",
      "Bob 140.0\n",
      "Mel 3139.0\n",
      "Jen 561.0\n",
      "Sue 1377.5\n",
      "Ken 1440.0\n",
      "Dave 340.0\n",
      "Beth 1369.0\n",
      "Ray 1650.0\n"
     ]
    }
   ],
   "source": [
    "for employee in employees:\n",
    "    if employee['hours'] <=40:\n",
    "        salary = employee['hours'] * employee['pay']\n",
    "    else:\n",
    "        salary = (40 * employee['pay']) + ((employee['hours'] -40) *1.5 * employee['pay'])\n",
    "    \n",
    "    print(employee['name'], salary)\n",
    "        "
   ]
  },
  {
   "cell_type": "code",
   "execution_count": null,
   "metadata": {
    "collapsed": true
   },
   "outputs": [],
   "source": []
  }
 ],
 "metadata": {
  "kernelspec": {
   "display_name": "Python 3",
   "language": "python",
   "name": "python3"
  },
  "language_info": {
   "codemirror_mode": {
    "name": "ipython",
    "version": 3
   },
   "file_extension": ".py",
   "mimetype": "text/x-python",
   "name": "python",
   "nbconvert_exporter": "python",
   "pygments_lexer": "ipython3",
   "version": "3.6.3"
  }
 },
 "nbformat": 4,
 "nbformat_minor": 2
}
